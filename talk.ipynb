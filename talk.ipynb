{
 "cells": [
  {
   "cell_type": "markdown",
   "metadata": {
    "slideshow": {
     "slide_type": "slide"
    }
   },
   "source": [
    "# Orbital Dynamics with REBOUND\n",
    "\n",
    "<font size=6>Alfredo Dal'Ava Júnior, **Ari Silburt**, Dan Foreman-Mackey, **Dan Tamayo**, **Dave Spiegel**, Deborah Lokhorst, Emilio Martines, Francesco Biscani, **Garett Brown**, Guillaume Laville, ***Hanno Rein***, Ilya V. Schurov, James Guillochon, Jean-Marc Petit, K.-Michael Aye, Keith Bertelsen, Kuba Suchecki, Kyle Conroy, Lukas Winkler, Rejean Leblanc, Ryan Janish, Sean Löfgren, **Shangfei Liu**, Stanley A. Baronett, Stephen Youndt, Steven Rieder, Subo Dong, Thomas Rometsch, Zeyang Meng, Akihiko Fujii</font>"
   ]
  },
  {
   "cell_type": "code",
   "execution_count": 27,
   "metadata": {},
   "outputs": [],
   "source": [
    "%matplotlib inline\n",
    "from numpy import sqrt\n",
    "from rebound import Simulation, SimulationArchive, OrbitPlot"
   ]
  },
  {
   "cell_type": "markdown",
   "metadata": {
    "slideshow": {
     "slide_type": "subslide"
    }
   },
   "source": [
    "## Outline\n",
    "1. High order integrators\n",
    "2. Tips and tricks\n",
    "3. Variational equations"
   ]
  },
  {
   "cell_type": "markdown",
   "metadata": {
    "slideshow": {
     "slide_type": "subslide"
    }
   },
   "source": [
    "# REBOUND\n",
    "- N-body integrator package\n",
    "- Planetary systems\n",
    "- Collisional simulations of planetary rings\n",
    "- Many different built-in integrators\n",
    "- Written in C with python interface"
   ]
  },
  {
   "cell_type": "markdown",
   "metadata": {
    "slideshow": {
     "slide_type": "slide"
    }
   },
   "source": [
    "## 1. High order integrators\n",
    "- Different approaches\n",
    "  - Brute force (BS, Everhart)\n",
    "  - Composition methods (Yoshida)\n",
    "  - Hamiltonian system (Wisdom, Blanes, EOS)\n",
    "- A large variety implemented in REBOUND\n",
    "- Easy to use"
   ]
  },
  {
   "cell_type": "markdown",
   "metadata": {
    "slideshow": {
     "slide_type": "subslide"
    }
   },
   "source": [
    "## IAS15\n",
    "- Rein & Spiegel (2015), based on Everhart (1985)\n",
    "- General purpose 15th order ODE solver\n",
    "- adaptive timestepping\n",
    "- arbitrary forces, arbitrary hierarchies"
   ]
  },
  {
   "cell_type": "code",
   "execution_count": 2,
   "metadata": {},
   "outputs": [
    {
     "data": {
      "text/plain": [
       "'ias15'"
      ]
     },
     "execution_count": 2,
     "metadata": {},
     "output_type": "execute_result"
    }
   ],
   "source": [
    "sim = Simulation()\n",
    "sim.integrator"
   ]
  },
  {
   "cell_type": "markdown",
   "metadata": {
    "slideshow": {
     "slide_type": "subslide"
    }
   },
   "source": [
    "## Timesteps for high order integrator\n",
    "- IAS15 is adaptive - no need to set it manually\n",
    "- Small range of timesteps that makes sense\n",
    "- Need to resolve orbital period:  $\\,dt\\lesssim0.1P$\n",
    "- Reducing $dt$ by 10 reduces error by $10^{15}$ (~machine precision)\n",
    "- Thus: \n",
    "$\\,0.01P\\lesssim dt\\lesssim0.1P$\n",
    "- 4th order integrator (RK4) does not make sense\n",
    "- 30th order integrator does not make sense"
   ]
  },
  {
   "cell_type": "code",
   "execution_count": 3,
   "metadata": {
    "slideshow": {
     "slide_type": "-"
    }
   },
   "outputs": [],
   "source": [
    "sim.ri_ias15.epsilon = 1e-3 # don't do this."
   ]
  },
  {
   "cell_type": "markdown",
   "metadata": {
    "slideshow": {
     "slide_type": "subslide"
    }
   },
   "source": [
    "## Integrators and Hamiltonian system \n",
    "- Make use of additional structure in the ODEs (second order ODE, conservative, symplectic)\n",
    "- Leap-frog integrator\n",
    "$$O\\left(dt^2\\right)$$\n",
    "- Wisdom-Holman integrator\n",
    "$$O\\left(\\epsilon \\,dt^2\\right)$$"
   ]
  },
  {
   "cell_type": "markdown",
   "metadata": {
    "slideshow": {
     "slide_type": "subslide"
    }
   },
   "source": [
    "Can do better than that!\n",
    "- SABA(10,6,4), Blanes et al. 2013\n",
    "$$O\\left(\\epsilon\\, dt^{10} + \\epsilon^2 \\,dt^6 + \\epsilon^3 \\,dt^4\\right)$$\n",
    "- Symplectic correctors, Wisdom et al. 1996\n",
    "$$O\\left(\\epsilon\\, dt^{18} + \\epsilon^2\\, dt^2\\right)$$\n",
    "- WHCKL, Wisdom et al. 1996\n",
    "$$O\\left(\\epsilon \\,dt^{18} + \\epsilon^2\\, dt^4 + \\epsilon^3 \\,dt^3\\right)$$"
   ]
  },
  {
   "cell_type": "code",
   "execution_count": 4,
   "metadata": {
    "slideshow": {
     "slide_type": "subslide"
    }
   },
   "outputs": [],
   "source": [
    "sim.integrator = \"SABA(10,6,4)\"\n",
    "sim.integrator = \"WHC\"\n",
    "sim.integrator = \"WHCKL\""
   ]
  },
  {
   "cell_type": "markdown",
   "metadata": {
    "slideshow": {
     "slide_type": "subslide"
    }
   },
   "source": [
    "<img src=\"highorder.png\">"
   ]
  },
  {
   "cell_type": "markdown",
   "metadata": {
    "slideshow": {
     "slide_type": "subslide"
    }
   },
   "source": [
    "**High order symplectic integrators for planetary dynamics and their implementation in REBOUND** <br/>\n",
    "Hanno Rein, Daniel Tamayo, Garett Brown<br/>\n",
    "MNRAS Volume 489, Issue 4, November 2019, Pages 4632–4640"
   ]
  },
  {
   "cell_type": "markdown",
   "metadata": {
    "slideshow": {
     "slide_type": "slide"
    }
   },
   "source": [
    "# 2. Tips and tricks"
   ]
  },
  {
   "cell_type": "markdown",
   "metadata": {
    "slideshow": {
     "slide_type": "subslide"
    }
   },
   "source": [
    "### Adding particles"
   ]
  },
  {
   "cell_type": "code",
   "execution_count": 5,
   "metadata": {},
   "outputs": [],
   "source": [
    "sim = Simulation()"
   ]
  },
  {
   "cell_type": "code",
   "execution_count": 6,
   "metadata": {},
   "outputs": [
    {
     "name": "stdout",
     "output_type": "stream",
     "text": [
      "Searching NASA Horizons for 'Sun'... Found: Target body name: Sun (10).\n",
      "Searching NASA Horizons for 'Earth'... Found: Target body name: Earth-Moon Barycenter (3).\n",
      "Searching NASA Horizons for 'SpaceX Roadster'... Found: Target body name: SpaceX Roadster (spacecraft) (-143205).\n"
     ]
    },
    {
     "name": "stderr",
     "output_type": "stream",
     "text": [
      "/Users/hannorein/git/rebound/rebound/horizons.py:145: RuntimeWarning: Warning: Mass cannot be retrieved from NASA HORIZONS. Set to 0.\n",
      "  warnings.warn(\"Warning: Mass cannot be retrieved from NASA HORIZONS. Set to 0.\", RuntimeWarning)\n"
     ]
    }
   ],
   "source": [
    "sim.add([\"Sun\", \"Earth\", \"SpaceX Roadster\"])"
   ]
  },
  {
   "cell_type": "code",
   "execution_count": 7,
   "metadata": {},
   "outputs": [],
   "source": [
    "sim.add(m=1e-6, x=2, vy=0.7) "
   ]
  },
  {
   "cell_type": "code",
   "execution_count": 8,
   "metadata": {
    "slideshow": {
     "slide_type": "subslide"
    }
   },
   "outputs": [
    {
     "data": {
      "image/png": "[encoded data removed]",
      "text/plain": [
       "<Figure size 360x360 with 1 Axes>"
      ]
     },
     "metadata": {
      "needs_background": "light"
     },
     "output_type": "display_data"
    }
   ],
   "source": [
    "OrbitPlot(sim);"
   ]
  },
  {
   "cell_type": "code",
   "execution_count": 9,
   "metadata": {
    "slideshow": {
     "slide_type": "subslide"
    }
   },
   "outputs": [],
   "source": [
    "#sim.add(\"Moon\")\n",
    "earth = sim.particles[1]\n",
    "sim.add(m=3.7e-8, a=0.0025, e=0.01, omega=0.01, primary=earth)"
   ]
  },
  {
   "cell_type": "code",
   "execution_count": 10,
   "metadata": {},
   "outputs": [],
   "source": [
    "spacecraft = earth.copy()\n",
    "spacecraft.m = 0\n",
    "earth_r = 4.2e-5 # Earth radius in AU\n",
    "spacecraft.x += earth_r\n",
    "spacecraft.vx += sqrt(2.*sim.G*earth.m/earth_r)\n",
    "sim.add(spacecraft)"
   ]
  },
  {
   "cell_type": "markdown",
   "metadata": {
    "slideshow": {
     "slide_type": "subslide"
    }
   },
   "source": [
    "### Saving, loading, copying simulations"
   ]
  },
  {
   "cell_type": "code",
   "execution_count": 11,
   "metadata": {},
   "outputs": [],
   "source": [
    "sim.save(\"talkbackup.bin\") # Save\n",
    "sim = Simulation(\"talkbackup.bin\") # Load"
   ]
  },
  {
   "cell_type": "code",
   "execution_count": 12,
   "metadata": {},
   "outputs": [
    {
     "data": {
      "text/plain": [
       "True"
      ]
     },
     "execution_count": 12,
     "metadata": {},
     "output_type": "execute_result"
    }
   ],
   "source": [
    "sim0 = sim.copy()\n",
    "sim0 == sim"
   ]
  },
  {
   "cell_type": "code",
   "execution_count": 13,
   "metadata": {},
   "outputs": [
    {
     "data": {
      "text/plain": [
       "False"
      ]
     },
     "execution_count": 13,
     "metadata": {},
     "output_type": "execute_result"
    }
   ],
   "source": [
    "sim.step()\n",
    "sim0 == sim"
   ]
  },
  {
   "cell_type": "code",
   "execution_count": 14,
   "metadata": {},
   "outputs": [
    {
     "data": {
      "text/plain": [
       "[-3.737567266182129e-06, -1.928619746460747e-06, 1.5233343992964669e-10]"
      ]
     },
     "execution_count": 14,
     "metadata": {},
     "output_type": "execute_result"
    }
   ],
   "source": [
    "diff = sim - sim0\n",
    "diff.particles[1].xyz"
   ]
  },
  {
   "cell_type": "markdown",
   "metadata": {
    "slideshow": {
     "slide_type": "subslide"
    }
   },
   "source": [
    " ### SimulationArchive\n",
    "- No need to think about what to output\n",
    "- Take snapshots, then compute outputs later"
   ]
  },
  {
   "cell_type": "code",
   "execution_count": 15,
   "metadata": {},
   "outputs": [],
   "source": [
    "sim.automateSimulationArchive(\"archive.bin\", interval=10, deletefile=True)\n",
    "sim.integrate(100)"
   ]
  },
  {
   "cell_type": "code",
   "execution_count": 16,
   "metadata": {},
   "outputs": [
    {
     "data": {
      "text/plain": [
       "10"
      ]
     },
     "execution_count": 16,
     "metadata": {},
     "output_type": "execute_result"
    }
   ],
   "source": [
    "sa = SimulationArchive(\"archive.bin\")\n",
    "len(sa)"
   ]
  },
  {
   "cell_type": "code",
   "execution_count": 17,
   "metadata": {},
   "outputs": [
    {
     "name": "stdout",
     "output_type": "stream",
     "text": [
      "0.015596886432679813\n",
      "0.015998662106040357\n"
     ]
    }
   ],
   "source": [
    "sim = sa[5]\n",
    "print(sim.particles[1].e)\n",
    "sim.integrate(7)\n",
    "print(sim.particles[1].e)"
   ]
  },
  {
   "cell_type": "markdown",
   "metadata": {
    "slideshow": {
     "slide_type": "slide"
    }
   },
   "source": [
    "# 3. Variational Equations\n",
    "- Derivatives with respect to the initial conditions\n",
    "- TTV, Hamiltonian MCMC, ML, ...\n",
    "- Lyapunov exponents, MEGNO\n",
    "- 1st and 2nd order implemented in REBOUND\n",
    "- Implemented by hand, no auto-diff\n",
    "- Variational maps are also symplectic maps"
   ]
  },
  {
   "cell_type": "code",
   "execution_count": 18,
   "metadata": {
    "slideshow": {
     "slide_type": "subslide"
    }
   },
   "outputs": [
    {
     "data": {
      "image/png": "[encoded data removed]",
      "text/plain": [
       "<Figure size 360x360 with 1 Axes>"
      ]
     },
     "metadata": {
      "needs_background": "light"
     },
     "output_type": "display_data"
    }
   ],
   "source": [
    "sim = Simulation()\n",
    "sim.add(m=1)\n",
    "sim.add(m=1e-3, a=1)\n",
    "sim.add(m=1e-3, a=2)\n",
    "OrbitPlot(sim);"
   ]
  },
  {
   "cell_type": "code",
   "execution_count": 19,
   "metadata": {
    "slideshow": {
     "slide_type": "subslide"
    }
   },
   "outputs": [],
   "source": [
    "var_a = sim.add_variation()\n",
    "var_a.vary(2, \"a\")"
   ]
  },
  {
   "cell_type": "code",
   "execution_count": 20,
   "metadata": {},
   "outputs": [
    {
     "name": "stdout",
     "output_type": "stream",
     "text": [
      "0.0\n",
      "-0.01737668985525693\n"
     ]
    }
   ],
   "source": [
    "print(var_a.particles[1].x)\n",
    "sim.integrate(10)\n",
    "print(var_a.particles[1].x)"
   ]
  },
  {
   "cell_type": "markdown",
   "metadata": {},
   "source": [
    "$$x_1(a_2 + \\delta a_2) =\\\\ x_1(a_2) + \\delta a_2 \\cdot \\underbrace{\\left.\\frac{\\partial x_1}{\\partial a_2} \\right|_{\\delta a_2=0}}   +\\, \\delta a^2_2 \\cdot \\left.\\frac{\\partial^2 x_1}{\\partial a^2_2} \\right|_{\\delta a_2=0} + \\ldots$$"
   ]
  },
  {
   "cell_type": "markdown",
   "metadata": {
    "slideshow": {
     "slide_type": "subslide"
    }
   },
   "source": [
    "**Second-order variational equations for N-body simulations** <br />\n",
    "Hanno Rein, Daniel Tamayo<br />\n",
    "MNRAS Volume 459, Issue 3, p.2275-2285"
   ]
  },
  {
   "cell_type": "markdown",
   "metadata": {
    "slideshow": {
     "slide_type": "slide"
    }
   },
   "source": [
    "# Thank you!\n",
    "# github&#46;com/hannorein/rebound"
   ]
  },
  {
   "cell_type": "code",
   "execution_count": null,
   "metadata": {
    "slideshow": {
     "slide_type": "slide"
    }
   },
   "outputs": [],
   "source": []
  }
 ],
 "metadata": {
  "celltoolbar": "Slideshow",
  "kernelspec": {
   "display_name": "Python 3",
   "language": "python",
   "name": "python3"
  },
  "language_info": {
   "codemirror_mode": {
    "name": "ipython",
    "version": 3
   },
   "file_extension": ".py",
   "mimetype": "text/x-python",
   "name": "python",
   "nbconvert_exporter": "python",
   "pygments_lexer": "ipython3",
   "version": "3.8.2"
  }
 },
 "nbformat": 4,
 "nbformat_minor": 2
}
